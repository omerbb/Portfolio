{
 "cells": [
  {
   "cell_type": "code",
   "execution_count": 70,
   "metadata": {},
   "outputs": [
    {
     "name": "stdout",
     "output_type": "stream",
     "text": [
      "0.024774774774774768\n",
      "Cross sectional area of the core : 0.020645645645645642 m2\n",
      "Secondary Voltage on Load : 440.0 V\n",
      "Primary magnetizing current : 1.1333333333333333 A Assuming sinusoidal current, the rms value the magnetizing current : 0.8013876853447538 A\n",
      "Volume of the core: 0.03303303303303303 m3 Mass of the core: 244.44444444444443 kg\n",
      "core loss: 366.66666666666663 W\n"
     ]
    }
   ],
   "source": [
    "f = open(\"emc.txt\", \"r\")\n",
    "varab=f.readlines()[0].split(\",\")\n",
    "for u in range(0,len(varab)):\n",
    "    varab[u]=float(varab[u])\n",
    "\n",
    "Vp,Np,Ns,f,Bm,I,H,core_density,corresponding_core_loss,aaa,bbb,cccc,ddddd,eeee,fff,ggggg =varab\n",
    "\n",
    "\n",
    "\n",
    "import math \n",
    "\n",
    "# Cross sectional area of the core\n",
    "\n",
    "om = Vp / (4.44 * Np * f )\n",
    "print(om)\n",
    "\n",
    "a =  om / Bm\n",
    "print('Cross sectional area of the core :', a , 'm2')\n",
    "\n",
    "#Secondary voltage on load \n",
    "\n",
    "b = Vp * (Ns / Np)\n",
    "print('Secondary Voltage on Load :', b, 'V')\n",
    "\n",
    "#Primary magnetizing current \n",
    "\n",
    "c = (H * I) / Np\n",
    "d = c / math.sqrt(2)\n",
    "print('Primary magnetizing current :', c, 'A','Assuming sinusoidal current, the rms value the magnetizing current :', d, 'A')\n",
    "\n",
    "#Volume and mass core \n",
    "e = I * a\n",
    "f = e * core_density\n",
    "\n",
    "print('Volume of the core:', e,'m3', 'Mass of the core:', f,'kg')\n",
    "\n",
    "#Core loss\n",
    "\n",
    "g = f * corresponding_core_loss\n",
    "\n",
    "print('core loss:', g, 'W')\n",
    "\n",
    "varab[9:] = a,b,c,d,e,f,g\n",
    "\n",
    "\n",
    "otp=\"\"\n",
    "iter=0\n",
    "for u in varab:\n",
    "    if iter==15:\n",
    "        otp+=str(u)\n",
    "    else:\n",
    "        otp+=str(u)+\",\"\n",
    "    iter+=1\n",
    "\n",
    "\n",
    "with open('emc.txt', 'w') as f:\n",
    "    f.write(otp)"
   ]
  }
 ],
 "metadata": {
  "kernelspec": {
   "display_name": ".venv",
   "language": "python",
   "name": "python3"
  },
  "language_info": {
   "codemirror_mode": {
    "name": "ipython",
    "version": 3
   },
   "file_extension": ".py",
   "mimetype": "text/x-python",
   "name": "python",
   "nbconvert_exporter": "python",
   "pygments_lexer": "ipython3",
   "version": "3.10.11"
  }
 },
 "nbformat": 4,
 "nbformat_minor": 2
}
