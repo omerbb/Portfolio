{
 "cells": [
  {
   "cell_type": "code",
   "execution_count": null,
   "metadata": {},
   "outputs": [],
   "source": [
    "import numpy as np\n",
    "import math\n",
    "from matplotlib import pyplot as plt\n",
    "%matplotlib qt\n"
   ]
  },
  {
   "cell_type": "code",
   "execution_count": 9,
   "metadata": {},
   "outputs": [],
   "source": [
    "class PIDNN:\n",
    "    def __init__(self, eta):\n",
    "        \n",
    "        self.eta = eta\n",
    "        self.error=[1,1,1]\n",
    "        self.integral=0\n",
    "        self.weights = np.random.uniform(0.1,0.5,3)\n",
    "        \n",
    "\n",
    "    def run_pidnn(self,y,ref):\n",
    "        \n",
    "        #forwardpass\n",
    "        current_error = ref - y\n",
    "        self.error.append(current_error)\n",
    "        del self.error[0]\n",
    "        proportional = self.error[-1]\n",
    "        self.integral += self.error[-1]\n",
    "        derrivative = self.error[-1] - self.error[-2]\n",
    "        \n",
    "        firstlayeractivated = np.array([proportional,self.integral,derrivative])\n",
    "        weighted = self.weights*firstlayeractivated\n",
    "        controller_out = np.sum(weighted)\n",
    "        \n",
    "        #backwardpass\n",
    "        d_loss_d_output = -current_error\n",
    "        gradient = d_loss_d_output * firstlayeractivated\n",
    "        weight_delta = self.eta * gradient\n",
    "        self.weights -= weight_delta\n",
    "        \n",
    "        output=controller_out+y\n",
    "        return output\n",
    "        \n",
    "\n"
   ]
  },
  {
   "cell_type": "code",
   "execution_count": 10,
   "metadata": {},
   "outputs": [
    {
     "data": {
      "text/plain": [
       "[<matplotlib.lines.Line2D at 0x246831ee890>]"
      ]
     },
     "execution_count": 10,
     "metadata": {},
     "output_type": "execute_result"
    }
   ],
   "source": [
    "tst, tf, tinc = 0, 60, 500\n",
    "timee = np.linspace(tst, tf, tinc)\n",
    "ramp_input = 1.2*(1-0.8*np.exp(-0.1*timee))\n",
    "step_input = np.piecewise(timee, [timee<=10, timee>10, timee>20, timee>30, timee>40, timee>50], [1,2,3,2,3,1])\n",
    "sin_input = np.sin(timee)*2\n",
    "\n",
    "aaa=[]\n",
    "y=[0]\n",
    "itera =0\n",
    "\n",
    "kontrol=PIDNN(0.01)\n",
    "\n",
    "for a in timee:\n",
    "    \n",
    "    pid_output=kontrol.run_pidnn(y[-1],step_input[itera])\n",
    "    aaa.append(1.2*(1-0.8*math.exp(-0.1*itera)))\n",
    "    y.append((aaa[itera]*y[itera])/(1+(y[itera])**2) + pid_output)\n",
    "    \n",
    "    \n",
    "    itera+=1\n",
    "    \n",
    "plt.figure()\n",
    "plt.plot(range(0,len(step_input)),step_input)\n",
    "plt.plot(range(0,len(y)),y)\n",
    "\n",
    "\n",
    "aaa=[]\n",
    "y=[0]\n",
    "itera =0\n",
    "\n",
    "kontrol=PIDNN(0.01)\n",
    "\n",
    "for a in timee:\n",
    "    \n",
    "    pid_output=kontrol.run_pidnn(y[-1],ramp_input[itera])\n",
    "    aaa.append(1.2*(1-0.8*math.exp(-0.1*itera)))\n",
    "    y.append((aaa[itera]*y[itera])/(1+(y[itera])**2) + pid_output)\n",
    "    \n",
    "    \n",
    "    itera+=1\n",
    "\n",
    "plt.figure()\n",
    "plt.plot(range(0,len(ramp_input)),ramp_input)\n",
    "plt.plot(range(0,len(y)),y)\n",
    "\n",
    "\n",
    "aaa=[]\n",
    "y=[0]\n",
    "itera =0\n",
    "\n",
    "kontrol=PIDNN(0.01)\n",
    "\n",
    "for a in timee:\n",
    "    \n",
    "    pid_output=kontrol.run_pidnn(y[-1],sin_input[itera])\n",
    "    aaa.append(1.2*(1-0.8*math.exp(-0.1*itera)))\n",
    "    y.append((aaa[itera]*y[itera])/(1+(y[itera])**2) + pid_output)\n",
    "    \n",
    "    \n",
    "    itera+=1\n",
    "\n",
    "plt.figure()   \n",
    "plt.plot(range(0,len(sin_input)),sin_input)\n",
    "plt.plot(range(0,len(y)),y)\n"
   ]
  }
 ],
 "metadata": {
  "kernelspec": {
   "display_name": ".venv",
   "language": "python",
   "name": "python3"
  },
  "language_info": {
   "codemirror_mode": {
    "name": "ipython",
    "version": 3
   },
   "file_extension": ".py",
   "mimetype": "text/x-python",
   "name": "python",
   "nbconvert_exporter": "python",
   "pygments_lexer": "ipython3",
   "version": "3.10.11"
  }
 },
 "nbformat": 4,
 "nbformat_minor": 2
}
