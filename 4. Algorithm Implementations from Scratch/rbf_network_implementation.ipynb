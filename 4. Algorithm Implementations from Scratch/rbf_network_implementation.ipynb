{
 "cells": [
  {
   "cell_type": "code",
   "execution_count": 1,
   "id": "d5d8b93a",
   "metadata": {},
   "outputs": [],
   "source": [
    "import numpy as np\n",
    "import math\n",
    "from matplotlib import pyplot as plt\n",
    "import tensorflow as tf\n",
    "import random\n",
    "import pandas as pd\n",
    "import sys\n",
    "import gymnasium as gym\n",
    "%matplotlib qt\n"
   ]
  },
  {
   "cell_type": "code",
   "execution_count": 2,
   "id": "33a7c548",
   "metadata": {},
   "outputs": [],
   "source": [
    "class bcolors:\n",
    "    HEADER = '\\033[95m'\n",
    "    OKBLUE = '\\033[94m'\n",
    "    OKCYAN = '\\033[96m'\n",
    "    OKGREEN = '\\033[92m'\n",
    "    WARNING = '\\033[93m'\n",
    "    FAIL = '\\033[91m'\n",
    "    ENDC = '\\033[0m'\n",
    "    BOLD = '\\033[1m'\n",
    "    UNDERLINE = '\\033[4m'\n",
    "    \n"
   ]
  },
  {
   "cell_type": "code",
   "execution_count": 3,
   "id": "8cb00468",
   "metadata": {},
   "outputs": [],
   "source": [
    "import numpy as np\n",
    "class rbfbuilder:\n",
    "    def __init__(self,inpneurons,hiddenneurons,outneurons,minweight=-1,maxweight=1,minc=-1,maxc=1,minvar=0.1,maxvar=1):\n",
    "        self.inpneurons,self.hiddenneurons,self.outneurons = inpneurons,hiddenneurons,outneurons\n",
    "        self.weights =np.random.uniform(minweight,maxweight,(hiddenneurons,outneurons))\n",
    "        self.c = np.random.uniform(minc,maxc,(hiddenneurons,1))\n",
    "        self.varyans =  np.ones((hiddenneurons,1))\n",
    "        \n",
    "    def rbf(self,x, c, sigma):\n",
    "        inp=-((x - c) / (sigma))**2\n",
    "        return np.exp(np.clip(inp, -709, 709).astype(float))\n",
    "\n",
    "    def rbforc(self,x, c, sigma):\n",
    "        inp=2*((x - c) / (sigma))\n",
    "        return np.exp(np.clip(inp, -709, 709).astype(float))\n",
    "\n",
    "    def rbforvar(self,x, c, sigma):\n",
    "        inp=((x - c)**2 / (sigma)**3)\n",
    "        return np.exp(np.clip(inp, -709, 709).astype(float))\n",
    "    \n",
    "    def train(self,batchinp,batchref,epoch=100,eta=0.1):\n",
    "        for _ in range(0,epoch):\n",
    "            self.eta = eta\n",
    "            \n",
    "            self.weighteds=[]\n",
    "            self.hiddenout=[]\n",
    "            self.errorr=[]\n",
    "            self.c_hiddenout=[]\n",
    "            self.var_hiddenout=[]\n",
    "            self.batchsize = batchinp.shape[0]\n",
    "            \n",
    "            \n",
    "            for u in range(0,self.batchsize):\n",
    "                hdn=[]\n",
    "                for a in range(0,self.hiddenneurons):\n",
    "                    nout=1                    \n",
    "                    for b in range(0,self.inpneurons):\n",
    "                        nout*=(self.rbf(batchinp[u,b],self.c[a],self.varyans[a]))\n",
    "                    hdn.append(nout)\n",
    "                self.hiddenout.append(hdn)\n",
    "                \n",
    "                hdn=[]\n",
    "                for a in range(0,self.hiddenneurons):\n",
    "                    nout=1                    \n",
    "                    for b in range(0,self.inpneurons):\n",
    "                        nout*=(self.rbforc(batchinp[u,b],self.c[a],self.varyans[a]))\n",
    "                    hdn.append(nout)\n",
    "                self.c_hiddenout.append(hdn)\n",
    "                \n",
    "                hdn=[]\n",
    "                for a in range(0,self.hiddenneurons):\n",
    "                    nout=1                    \n",
    "                    for b in range(0,self.inpneurons):\n",
    "                        nout*=(self.rbforvar(batchinp[u,b],self.c[a],self.varyans[a]))\n",
    "                    hdn.append(nout)\n",
    "                self.var_hiddenout.append(hdn)\n",
    "            \n",
    "            self.weighteds=[np.array(a)*self.weights for a in self.hiddenout]\n",
    "                    \n",
    "            self.nnout = [np.sum(a) for a in self.weighteds]\n",
    "            \n",
    "            \n",
    "            for a in range(0,self.batchsize):\n",
    "                self.errorr.append(batchref[a]-self.nnout[a])\n",
    "\n",
    "            #update all\n",
    "            \n",
    "            \n",
    "            for u in range(0,self.batchsize):\n",
    "                self.weights+= self.eta*self.errorr[u]*self.hiddenout[u]\n",
    "            \n",
    "            \n",
    "                \n",
    "            for u in range(0,self.batchsize):\n",
    "                self.c+= self.eta*self.errorr[u]*self.weighteds[u] *self.c_hiddenout[u]\n",
    "                \n",
    "            for u in range(0,self.batchsize):\n",
    "                self.varyans+= 2*self.eta*self.errorr[u]*self.weighteds[u] *self.var_hiddenout[u]\n",
    "            \n",
    "        return self.nnout\n",
    "\n"
   ]
  },
  {
   "cell_type": "code",
   "execution_count": 4,
   "id": "8677bb38",
   "metadata": {},
   "outputs": [
    {
     "data": {
      "text/plain": [
       "[1.821099666149406e-06,\n",
       " 0.9999983767210147,\n",
       " 0.9999983767210147,\n",
       " 8.864118936670329e-07]"
      ]
     },
     "execution_count": 4,
     "metadata": {},
     "output_type": "execute_result"
    }
   ],
   "source": [
    "\n",
    "X = np.array([[0, 0], [0, 1], [1, 0], [1, 1]])\n",
    "y = np.array([[0], [1], [1], [0]])\n",
    "rbff = rbfbuilder(2,20,1)\n",
    "\n",
    "rbff.train(X,y,epoch=1000,eta=0.01)"
   ]
  }
 ],
 "metadata": {
  "kernelspec": {
   "display_name": ".venv",
   "language": "python",
   "name": "python3"
  },
  "language_info": {
   "codemirror_mode": {
    "name": "ipython",
    "version": 3
   },
   "file_extension": ".py",
   "mimetype": "text/x-python",
   "name": "python",
   "nbconvert_exporter": "python",
   "pygments_lexer": "ipython3",
   "version": "3.10.11"
  }
 },
 "nbformat": 4,
 "nbformat_minor": 5
}
